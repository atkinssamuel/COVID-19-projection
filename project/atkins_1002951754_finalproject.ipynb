{
 "metadata": {
  "language_info": {
   "codemirror_mode": {
    "name": "ipython",
    "version": 3
   },
   "file_extension": ".py",
   "mimetype": "text/x-python",
   "name": "python",
   "nbconvert_exporter": "python",
   "pygments_lexer": "ipython3",
   "version": "3.6.9-final"
  },
  "orig_nbformat": 2,
  "kernelspec": {
   "name": "python3",
   "display_name": "Python 3"
  }
 },
 "nbformat": 4,
 "nbformat_minor": 2,
 "cells": [
  {
   "source": [
    "# COVID-19 Projection"
   ],
   "cell_type": "markdown",
   "metadata": {}
  },
  {
   "cell_type": "code",
   "execution_count": 1,
   "metadata": {},
   "outputs": [],
   "source": [
    "# library importing\n",
    "import pandas as pd\n",
    "import numpy as np\n",
    "import nltk\n",
    "import string\n",
    "import seaborn as sns"
   ]
  },
  {
   "cell_type": "code",
   "execution_count": 2,
   "metadata": {},
   "outputs": [],
   "source": [
    "us = pd.read_csv(\"../data/time_series_covid19_confirmed_US.csv\")\n",
    "gb = pd.read_csv(\"../data/time_series_covid19_confirmed_global.csv\")"
   ]
  },
  {
   "cell_type": "code",
   "execution_count": 3,
   "metadata": {},
   "outputs": [
    {
     "output_type": "stream",
     "name": "stdout",
     "text": [
      "(3340, 326)\n(271, 319)\n"
     ]
    }
   ],
   "source": [
    "print(us.shape)\n",
    "print(gb.shape)"
   ]
  },
  {
   "cell_type": "code",
   "execution_count": 4,
   "metadata": {},
   "outputs": [
    {
     "output_type": "stream",
     "name": "stdout",
     "text": [
      "Index(['UID', 'iso2', 'iso3', 'code3', 'FIPS', 'Admin2', 'Province_State',\n       'Country_Region', 'Lat', 'Long_'],\n      dtype='object')\n"
     ]
    },
    {
     "output_type": "execute_result",
     "data": {
      "text/plain": [
       "        UID iso2 iso3  code3    FIPS   Admin2 Province_State Country_Region  \\\n",
       "0  84001001   US  USA    840  1001.0  Autauga        Alabama             US   \n",
       "1  84001003   US  USA    840  1003.0  Baldwin        Alabama             US   \n",
       "2  84001005   US  USA    840  1005.0  Barbour        Alabama             US   \n",
       "3  84001007   US  USA    840  1007.0     Bibb        Alabama             US   \n",
       "4  84001009   US  USA    840  1009.0   Blount        Alabama             US   \n",
       "\n",
       "         Lat      Long_  ... 11/22/20  11/23/20  11/24/20  11/25/20  11/26/20  \\\n",
       "0  32.539527 -86.644082  ...     2617      2634      2661      2686      2704   \n",
       "1  30.727750 -87.722071  ...     8199      8269      8376      8473      8576   \n",
       "2  31.868263 -85.387129  ...     1160      1161      1167      1170      1170   \n",
       "3  32.996421 -87.125115  ...     1136      1142      1157      1162      1170   \n",
       "4  33.982109 -86.567906  ...     2754      2763      2822      2855      2879   \n",
       "\n",
       "   11/27/20  11/28/20  11/29/20  11/30/20  12/1/20  \n",
       "0      2716      2735      2751      2780     2818  \n",
       "1      8603      8733      8820      8890     9051  \n",
       "2      1171      1173      1175      1178     1189  \n",
       "3      1173      1179      1188      1196     1204  \n",
       "4      2888      2922      2946      2997     3061  \n",
       "\n",
       "[5 rows x 326 columns]"
      ],
      "text/html": "<div>\n<style scoped>\n    .dataframe tbody tr th:only-of-type {\n        vertical-align: middle;\n    }\n\n    .dataframe tbody tr th {\n        vertical-align: top;\n    }\n\n    .dataframe thead th {\n        text-align: right;\n    }\n</style>\n<table border=\"1\" class=\"dataframe\">\n  <thead>\n    <tr style=\"text-align: right;\">\n      <th></th>\n      <th>UID</th>\n      <th>iso2</th>\n      <th>iso3</th>\n      <th>code3</th>\n      <th>FIPS</th>\n      <th>Admin2</th>\n      <th>Province_State</th>\n      <th>Country_Region</th>\n      <th>Lat</th>\n      <th>Long_</th>\n      <th>...</th>\n      <th>11/22/20</th>\n      <th>11/23/20</th>\n      <th>11/24/20</th>\n      <th>11/25/20</th>\n      <th>11/26/20</th>\n      <th>11/27/20</th>\n      <th>11/28/20</th>\n      <th>11/29/20</th>\n      <th>11/30/20</th>\n      <th>12/1/20</th>\n    </tr>\n  </thead>\n  <tbody>\n    <tr>\n      <th>0</th>\n      <td>84001001</td>\n      <td>US</td>\n      <td>USA</td>\n      <td>840</td>\n      <td>1001.0</td>\n      <td>Autauga</td>\n      <td>Alabama</td>\n      <td>US</td>\n      <td>32.539527</td>\n      <td>-86.644082</td>\n      <td>...</td>\n      <td>2617</td>\n      <td>2634</td>\n      <td>2661</td>\n      <td>2686</td>\n      <td>2704</td>\n      <td>2716</td>\n      <td>2735</td>\n      <td>2751</td>\n      <td>2780</td>\n      <td>2818</td>\n    </tr>\n    <tr>\n      <th>1</th>\n      <td>84001003</td>\n      <td>US</td>\n      <td>USA</td>\n      <td>840</td>\n      <td>1003.0</td>\n      <td>Baldwin</td>\n      <td>Alabama</td>\n      <td>US</td>\n      <td>30.727750</td>\n      <td>-87.722071</td>\n      <td>...</td>\n      <td>8199</td>\n      <td>8269</td>\n      <td>8376</td>\n      <td>8473</td>\n      <td>8576</td>\n      <td>8603</td>\n      <td>8733</td>\n      <td>8820</td>\n      <td>8890</td>\n      <td>9051</td>\n    </tr>\n    <tr>\n      <th>2</th>\n      <td>84001005</td>\n      <td>US</td>\n      <td>USA</td>\n      <td>840</td>\n      <td>1005.0</td>\n      <td>Barbour</td>\n      <td>Alabama</td>\n      <td>US</td>\n      <td>31.868263</td>\n      <td>-85.387129</td>\n      <td>...</td>\n      <td>1160</td>\n      <td>1161</td>\n      <td>1167</td>\n      <td>1170</td>\n      <td>1170</td>\n      <td>1171</td>\n      <td>1173</td>\n      <td>1175</td>\n      <td>1178</td>\n      <td>1189</td>\n    </tr>\n    <tr>\n      <th>3</th>\n      <td>84001007</td>\n      <td>US</td>\n      <td>USA</td>\n      <td>840</td>\n      <td>1007.0</td>\n      <td>Bibb</td>\n      <td>Alabama</td>\n      <td>US</td>\n      <td>32.996421</td>\n      <td>-87.125115</td>\n      <td>...</td>\n      <td>1136</td>\n      <td>1142</td>\n      <td>1157</td>\n      <td>1162</td>\n      <td>1170</td>\n      <td>1173</td>\n      <td>1179</td>\n      <td>1188</td>\n      <td>1196</td>\n      <td>1204</td>\n    </tr>\n    <tr>\n      <th>4</th>\n      <td>84001009</td>\n      <td>US</td>\n      <td>USA</td>\n      <td>840</td>\n      <td>1009.0</td>\n      <td>Blount</td>\n      <td>Alabama</td>\n      <td>US</td>\n      <td>33.982109</td>\n      <td>-86.567906</td>\n      <td>...</td>\n      <td>2754</td>\n      <td>2763</td>\n      <td>2822</td>\n      <td>2855</td>\n      <td>2879</td>\n      <td>2888</td>\n      <td>2922</td>\n      <td>2946</td>\n      <td>2997</td>\n      <td>3061</td>\n    </tr>\n  </tbody>\n</table>\n<p>5 rows × 326 columns</p>\n</div>"
     },
     "metadata": {},
     "execution_count": 4
    }
   ],
   "source": [
    "print(us.columns[:10])\n",
    "us.head()"
   ]
  },
  {
   "cell_type": "code",
   "execution_count": 5,
   "metadata": {},
   "outputs": [
    {
     "output_type": "stream",
     "name": "stdout",
     "text": [
      "Index(['Province/State', 'Country/Region', 'Lat', 'Long', '1/22/20', '1/23/20',\n       '1/24/20', '1/25/20', '1/26/20', '1/27/20'],\n      dtype='object')\n"
     ]
    },
    {
     "output_type": "execute_result",
     "data": {
      "text/plain": [
       "  Province/State Country/Region       Lat       Long  1/22/20  1/23/20  \\\n",
       "0            NaN    Afghanistan  33.93911  67.709953        0        0   \n",
       "1            NaN        Albania  41.15330  20.168300        0        0   \n",
       "2            NaN        Algeria  28.03390   1.659600        0        0   \n",
       "3            NaN        Andorra  42.50630   1.521800        0        0   \n",
       "4            NaN         Angola -11.20270  17.873900        0        0   \n",
       "\n",
       "   1/24/20  1/25/20  1/26/20  1/27/20  ...  11/22/20  11/23/20  11/24/20  \\\n",
       "0        0        0        0        0  ...     44706     44988     45280   \n",
       "1        0        0        0        0  ...     32761     33556     34300   \n",
       "2        0        0        0        0  ...     74862     75867     77000   \n",
       "3        0        0        0        0  ...      6256      6304      6351   \n",
       "4        0        0        0        0  ...     14493     14634     14742   \n",
       "\n",
       "   11/25/20  11/26/20  11/27/20  11/28/20  11/29/20  11/30/20  12/1/20  \n",
       "0     45490     45716     45839     45966     46215     46498    46717  \n",
       "1     34944     35600     36245     36790     37625     38182    39014  \n",
       "2     78025     79110     80168     81212     82221     83199    84152  \n",
       "3      6428      6534      6610      6610      6712      6745     6790  \n",
       "4     14821     14920     15008     15087     15103     15139    15251  \n",
       "\n",
       "[5 rows x 319 columns]"
      ],
      "text/html": "<div>\n<style scoped>\n    .dataframe tbody tr th:only-of-type {\n        vertical-align: middle;\n    }\n\n    .dataframe tbody tr th {\n        vertical-align: top;\n    }\n\n    .dataframe thead th {\n        text-align: right;\n    }\n</style>\n<table border=\"1\" class=\"dataframe\">\n  <thead>\n    <tr style=\"text-align: right;\">\n      <th></th>\n      <th>Province/State</th>\n      <th>Country/Region</th>\n      <th>Lat</th>\n      <th>Long</th>\n      <th>1/22/20</th>\n      <th>1/23/20</th>\n      <th>1/24/20</th>\n      <th>1/25/20</th>\n      <th>1/26/20</th>\n      <th>1/27/20</th>\n      <th>...</th>\n      <th>11/22/20</th>\n      <th>11/23/20</th>\n      <th>11/24/20</th>\n      <th>11/25/20</th>\n      <th>11/26/20</th>\n      <th>11/27/20</th>\n      <th>11/28/20</th>\n      <th>11/29/20</th>\n      <th>11/30/20</th>\n      <th>12/1/20</th>\n    </tr>\n  </thead>\n  <tbody>\n    <tr>\n      <th>0</th>\n      <td>NaN</td>\n      <td>Afghanistan</td>\n      <td>33.93911</td>\n      <td>67.709953</td>\n      <td>0</td>\n      <td>0</td>\n      <td>0</td>\n      <td>0</td>\n      <td>0</td>\n      <td>0</td>\n      <td>...</td>\n      <td>44706</td>\n      <td>44988</td>\n      <td>45280</td>\n      <td>45490</td>\n      <td>45716</td>\n      <td>45839</td>\n      <td>45966</td>\n      <td>46215</td>\n      <td>46498</td>\n      <td>46717</td>\n    </tr>\n    <tr>\n      <th>1</th>\n      <td>NaN</td>\n      <td>Albania</td>\n      <td>41.15330</td>\n      <td>20.168300</td>\n      <td>0</td>\n      <td>0</td>\n      <td>0</td>\n      <td>0</td>\n      <td>0</td>\n      <td>0</td>\n      <td>...</td>\n      <td>32761</td>\n      <td>33556</td>\n      <td>34300</td>\n      <td>34944</td>\n      <td>35600</td>\n      <td>36245</td>\n      <td>36790</td>\n      <td>37625</td>\n      <td>38182</td>\n      <td>39014</td>\n    </tr>\n    <tr>\n      <th>2</th>\n      <td>NaN</td>\n      <td>Algeria</td>\n      <td>28.03390</td>\n      <td>1.659600</td>\n      <td>0</td>\n      <td>0</td>\n      <td>0</td>\n      <td>0</td>\n      <td>0</td>\n      <td>0</td>\n      <td>...</td>\n      <td>74862</td>\n      <td>75867</td>\n      <td>77000</td>\n      <td>78025</td>\n      <td>79110</td>\n      <td>80168</td>\n      <td>81212</td>\n      <td>82221</td>\n      <td>83199</td>\n      <td>84152</td>\n    </tr>\n    <tr>\n      <th>3</th>\n      <td>NaN</td>\n      <td>Andorra</td>\n      <td>42.50630</td>\n      <td>1.521800</td>\n      <td>0</td>\n      <td>0</td>\n      <td>0</td>\n      <td>0</td>\n      <td>0</td>\n      <td>0</td>\n      <td>...</td>\n      <td>6256</td>\n      <td>6304</td>\n      <td>6351</td>\n      <td>6428</td>\n      <td>6534</td>\n      <td>6610</td>\n      <td>6610</td>\n      <td>6712</td>\n      <td>6745</td>\n      <td>6790</td>\n    </tr>\n    <tr>\n      <th>4</th>\n      <td>NaN</td>\n      <td>Angola</td>\n      <td>-11.20270</td>\n      <td>17.873900</td>\n      <td>0</td>\n      <td>0</td>\n      <td>0</td>\n      <td>0</td>\n      <td>0</td>\n      <td>0</td>\n      <td>...</td>\n      <td>14493</td>\n      <td>14634</td>\n      <td>14742</td>\n      <td>14821</td>\n      <td>14920</td>\n      <td>15008</td>\n      <td>15087</td>\n      <td>15103</td>\n      <td>15139</td>\n      <td>15251</td>\n    </tr>\n  </tbody>\n</table>\n<p>5 rows × 319 columns</p>\n</div>"
     },
     "metadata": {},
     "execution_count": 5
    }
   ],
   "source": [
    "print(gb.columns[:10])\n",
    "gb.head()"
   ]
  },
  {
   "cell_type": "code",
   "execution_count": 6,
   "metadata": {},
   "outputs": [
    {
     "output_type": "execute_result",
     "data": {
      "text/plain": [
       "        dates  values\n",
       "305  11/22/20    2754\n",
       "306  11/23/20    2763\n",
       "307  11/24/20    2822\n",
       "308  11/25/20    2855\n",
       "309  11/26/20    2879\n",
       "310  11/27/20    2888\n",
       "311  11/28/20    2922\n",
       "312  11/29/20    2946\n",
       "313  11/30/20    2997\n",
       "314   12/1/20    3061"
      ],
      "text/html": "<div>\n<style scoped>\n    .dataframe tbody tr th:only-of-type {\n        vertical-align: middle;\n    }\n\n    .dataframe tbody tr th {\n        vertical-align: top;\n    }\n\n    .dataframe thead th {\n        text-align: right;\n    }\n</style>\n<table border=\"1\" class=\"dataframe\">\n  <thead>\n    <tr style=\"text-align: right;\">\n      <th></th>\n      <th>dates</th>\n      <th>values</th>\n    </tr>\n  </thead>\n  <tbody>\n    <tr>\n      <th>305</th>\n      <td>11/22/20</td>\n      <td>2754</td>\n    </tr>\n    <tr>\n      <th>306</th>\n      <td>11/23/20</td>\n      <td>2763</td>\n    </tr>\n    <tr>\n      <th>307</th>\n      <td>11/24/20</td>\n      <td>2822</td>\n    </tr>\n    <tr>\n      <th>308</th>\n      <td>11/25/20</td>\n      <td>2855</td>\n    </tr>\n    <tr>\n      <th>309</th>\n      <td>11/26/20</td>\n      <td>2879</td>\n    </tr>\n    <tr>\n      <th>310</th>\n      <td>11/27/20</td>\n      <td>2888</td>\n    </tr>\n    <tr>\n      <th>311</th>\n      <td>11/28/20</td>\n      <td>2922</td>\n    </tr>\n    <tr>\n      <th>312</th>\n      <td>11/29/20</td>\n      <td>2946</td>\n    </tr>\n    <tr>\n      <th>313</th>\n      <td>11/30/20</td>\n      <td>2997</td>\n    </tr>\n    <tr>\n      <th>314</th>\n      <td>12/1/20</td>\n      <td>3061</td>\n    </tr>\n  </tbody>\n</table>\n</div>"
     },
     "metadata": {},
     "execution_count": 6
    }
   ],
   "source": [
    "def create_time_series(df, index):\n",
    "    ts = pd.DataFrame()\n",
    "\n",
    "    date_index = 4\n",
    "    if df.shape[1] == 326:\n",
    "        date_index = 11\n",
    "\n",
    "    dates = pd.Series(df.columns[date_index:])\n",
    "    values = np.array(df.iloc[index, date_index:], dtype=int)\n",
    "    ts[\"dates\"] = dates\n",
    "    ts[\"values\"] = values\n",
    "    return ts\n",
    "us_ts = create_time_series(us, 4)\n",
    "us_ts[-10:]"
   ]
  },
  {
   "cell_type": "code",
   "execution_count": 7,
   "metadata": {},
   "outputs": [
    {
     "output_type": "stream",
     "name": "stdout",
     "text": [
      "['US']\n\n ['Alabama' 'Alaska' 'American Samoa' 'Arizona' 'Arkansas' 'California'\n 'Colorado' 'Connecticut' 'Delaware' 'Diamond Princess'\n 'District of Columbia' 'Florida' 'Georgia' 'Grand Princess' 'Guam'\n 'Hawaii' 'Idaho' 'Illinois' 'Indiana' 'Iowa' 'Kansas' 'Kentucky'\n 'Louisiana' 'Maine' 'Maryland' 'Massachusetts' 'Michigan' 'Minnesota'\n 'Mississippi' 'Missouri' 'Montana' 'Nebraska' 'Nevada' 'New Hampshire'\n 'New Jersey' 'New Mexico' 'New York' 'North Carolina' 'North Dakota'\n 'Northern Mariana Islands' 'Ohio' 'Oklahoma' 'Oregon' 'Pennsylvania'\n 'Puerto Rico' 'Rhode Island' 'South Carolina' 'South Dakota' 'Tennessee'\n 'Texas' 'Utah' 'Vermont' 'Virgin Islands' 'Virginia' 'Washington'\n 'West Virginia' 'Wisconsin' 'Wyoming']\n\nNumber of States = 58\n"
     ]
    }
   ],
   "source": [
    "print(us[\"Country_Region\"].unique())\n",
    "print(\"\\n\", us[\"Province_State\"].unique())\n",
    "print(\"\\nNumber of States =\", us[\"Province_State\"].unique().shape[0])"
   ]
  },
  {
   "cell_type": "code",
   "execution_count": 8,
   "metadata": {},
   "outputs": [
    {
     "output_type": "stream",
     "name": "stdout",
     "text": [
      "['Afghanistan' 'Albania' 'Algeria' 'Andorra' 'Angola'\n 'Antigua and Barbuda' 'Argentina' 'Armenia' 'Australia' 'Austria'\n 'Azerbaijan' 'Bahamas' 'Bahrain' 'Bangladesh' 'Barbados' 'Belarus'\n 'Belgium' 'Belize' 'Benin' 'Bhutan' 'Bolivia' 'Bosnia and Herzegovina'\n 'Botswana' 'Brazil' 'Brunei' 'Bulgaria' 'Burkina Faso' 'Burma' 'Burundi'\n 'Cabo Verde' 'Cambodia' 'Cameroon' 'Canada' 'Central African Republic'\n 'Chad' 'Chile' 'China' 'Colombia' 'Comoros' 'Congo (Brazzaville)'\n 'Congo (Kinshasa)' 'Costa Rica' \"Cote d'Ivoire\" 'Croatia' 'Cuba' 'Cyprus'\n 'Czechia' 'Denmark' 'Diamond Princess' 'Djibouti' 'Dominica'\n 'Dominican Republic' 'Ecuador' 'Egypt' 'El Salvador' 'Equatorial Guinea'\n 'Eritrea' 'Estonia' 'Eswatini' 'Ethiopia' 'Fiji' 'Finland' 'France'\n 'Gabon' 'Gambia' 'Georgia' 'Germany' 'Ghana' 'Greece' 'Grenada'\n 'Guatemala' 'Guinea' 'Guinea-Bissau' 'Guyana' 'Haiti' 'Holy See'\n 'Honduras' 'Hungary' 'Iceland' 'India' 'Indonesia' 'Iran' 'Iraq'\n 'Ireland' 'Israel' 'Italy' 'Jamaica' 'Japan' 'Jordan' 'Kazakhstan'\n 'Kenya' 'Korea, South' 'Kosovo' 'Kuwait' 'Kyrgyzstan' 'Laos' 'Latvia'\n 'Lebanon' 'Lesotho' 'Liberia' 'Libya' 'Liechtenstein' 'Lithuania'\n 'Luxembourg' 'MS Zaandam' 'Madagascar' 'Malawi' 'Malaysia' 'Maldives'\n 'Mali' 'Malta' 'Marshall Islands' 'Mauritania' 'Mauritius' 'Mexico'\n 'Moldova' 'Monaco' 'Mongolia' 'Montenegro' 'Morocco' 'Mozambique'\n 'Namibia' 'Nepal' 'Netherlands' 'New Zealand' 'Nicaragua' 'Niger'\n 'Nigeria' 'North Macedonia' 'Norway' 'Oman' 'Pakistan' 'Panama'\n 'Papua New Guinea' 'Paraguay' 'Peru' 'Philippines' 'Poland' 'Portugal'\n 'Qatar' 'Romania' 'Russia' 'Rwanda' 'Saint Kitts and Nevis' 'Saint Lucia'\n 'Saint Vincent and the Grenadines' 'San Marino' 'Sao Tome and Principe'\n 'Saudi Arabia' 'Senegal' 'Serbia' 'Seychelles' 'Sierra Leone' 'Singapore'\n 'Slovakia' 'Slovenia' 'Solomon Islands' 'Somalia' 'South Africa'\n 'South Sudan' 'Spain' 'Sri Lanka' 'Sudan' 'Suriname' 'Sweden'\n 'Switzerland' 'Syria' 'Taiwan*' 'Tajikistan' 'Tanzania' 'Thailand'\n 'Timor-Leste' 'Togo' 'Trinidad and Tobago' 'Tunisia' 'Turkey' 'US'\n 'Uganda' 'Ukraine' 'United Arab Emirates' 'United Kingdom' 'Uruguay'\n 'Uzbekistan' 'Vanuatu' 'Venezuela' 'Vietnam' 'West Bank and Gaza'\n 'Western Sahara' 'Yemen' 'Zambia' 'Zimbabwe']\n\nNumber of Countries = 191\n"
     ]
    }
   ],
   "source": [
    "print(gb[\"Country/Region\"].unique())\n",
    "\n",
    "print(\"\\nNumber of Countries =\", gb[\"Country/Region\"].unique().shape[0])"
   ]
  },
  {
   "cell_type": "code",
   "execution_count": 9,
   "metadata": {},
   "outputs": [],
   "source": [
    "def get_index(df, name):\n",
    "    col = \"Country/Region\"\n",
    "    if df.shape[1] == 326:\n",
    "        col = \"Province_State\"\n",
    "    return df[df[col] == name].iloc[0].name"
   ]
  },
  {
   "cell_type": "code",
   "execution_count": 10,
   "metadata": {},
   "outputs": [
    {
     "output_type": "stream",
     "name": "stdout",
     "text": [
      "Mississippi Index = 1456\nUS Index = 246\n"
     ]
    }
   ],
   "source": [
    "print(\"Mississippi Index =\", get_index(us, \"Mississippi\"))\n",
    "print(\"US Index =\", get_index(gb, \"US\"))"
   ]
  }
 ]
}